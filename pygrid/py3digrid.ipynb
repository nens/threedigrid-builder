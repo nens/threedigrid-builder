{
 "cells": [
  {
   "cell_type": "code",
   "execution_count": 1,
   "metadata": {},
   "outputs": [],
   "source": [
    "import os\n",
    "from py3digrid import subgrid\n",
    "from py3digrid.subgrid import SubgridArea\n",
    "from py3digrid.models import GridRefinement, GridRefinementArea, GlobalSettings\n",
    "from py3digrid.db import ModelFileDB\n",
    "from gridwrap import QuadTree"
   ]
  },
  {
   "cell_type": "code",
   "execution_count": null,
   "metadata": {},
   "outputs": [
    {
     "name": "stdout",
     "output_type": "stream",
     "text": [
      "Handle:  [1525739808      21991]\n"
     ]
    }
   ],
   "source": [
    "sqlite_path = \"/models/v2_bergermeer/3a58dfb2e95f10ca121e26e4259ed68f60e3268f/v2_bergermeer.sqlite\"\n",
    "model_db = ModelFileDB(sqlite_path)\n",
    "model_root = os.path.dirname(sqlite_path)\n",
    "dem_filepath = model_root + '/' + model_db.session.query(GlobalSettings.dem_file).first()[0]\n",
    "subgrid = SubgridArea(dem_filepath, model_area=None)\n",
    "quadtree = QuadTree(subgrid=subgrid, max_ref_lvl=model_db.kmax, min_grid_size=model_db.grid_space)\n",
    "refinements = model_db.get_grid_refinements()\n",
    "[quadtree.set_refinement(refinement) for refinement in refinements]\n",
    "quadtree.create_active_grid(subgrid.area_pix)"
   ]
  },
  {
   "cell_type": "code",
   "execution_count": null,
   "metadata": {},
   "outputs": [],
   "source": []
  },
  {
   "cell_type": "code",
   "execution_count": null,
   "metadata": {},
   "outputs": [],
   "source": [
    "subgrid.area_pix"
   ]
  },
  {
   "cell_type": "code",
   "execution_count": null,
   "metadata": {},
   "outputs": [],
   "source": []
  }
 ],
 "metadata": {
  "kernelspec": {
   "display_name": "Python 3",
   "language": "python",
   "name": "python3"
  },
  "language_info": {
   "codemirror_mode": {
    "name": "ipython",
    "version": 3
   },
   "file_extension": ".py",
   "mimetype": "text/x-python",
   "name": "python",
   "nbconvert_exporter": "python",
   "pygments_lexer": "ipython3",
   "version": "3.9.1"
  }
 },
 "nbformat": 4,
 "nbformat_minor": 4
}
